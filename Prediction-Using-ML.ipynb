{
 "cells": [
  {
   "cell_type": "code",
   "execution_count": 61,
   "id": "f5b10bf4-e4f3-4d66-9953-9d89ffec8f2a",
   "metadata": {},
   "outputs": [],
   "source": [
    "import numpy as np\n",
    "import pandas as pd\n",
    "import matplotlib.pyplot as plt\n",
    "import seaborn as sns\n",
    "from sklearn.preprocessing import StandardScaler\n",
    "\n",
    "# 경고 메시지 무시\n",
    "import warnings\n",
    "warnings.filterwarnings('ignore')"
   ]
  },
  {
   "cell_type": "code",
   "execution_count": 62,
   "id": "7385bb7f-51e1-4c85-8c37-757807844502",
   "metadata": {},
   "outputs": [
    {
     "name": "stdout",
     "output_type": "stream",
     "text": [
      "데이터 셋 크기: (1567, 592)\n",
      "<class 'pandas.core.frame.DataFrame'>\n",
      "RangeIndex: 1567 entries, 0 to 1566\n",
      "Columns: 592 entries, Time to Pass_Fail\n",
      "dtypes: float64(590), int64(1), object(1)\n",
      "memory usage: 7.1+ MB\n",
      "None\n",
      "                 0            1            2            3            4  \\\n",
      "count  1561.000000  1560.000000  1553.000000  1553.000000  1553.000000   \n",
      "mean   3014.452896  2495.850231  2200.547318  1396.376627     4.197013   \n",
      "std      73.621787    80.407705    29.513152   441.691640    56.355540   \n",
      "min    2743.240000  2158.750000  2060.660000     0.000000     0.681500   \n",
      "25%    2966.260000  2452.247500  2181.044400  1081.875800     1.017700   \n",
      "50%    3011.490000  2499.405000  2201.066700  1285.214400     1.316800   \n",
      "75%    3056.650000  2538.822500  2218.055500  1591.223500     1.525700   \n",
      "max    3356.350000  2846.440000  2315.266700  3715.041700  1114.536600   \n",
      "\n",
      "            5            6            7            8            9  ...  \\\n",
      "count  1553.0  1553.000000  1558.000000  1565.000000  1565.000000  ...   \n",
      "mean    100.0   101.112908     0.121822     1.462862    -0.000841  ...   \n",
      "std       0.0     6.237214     0.008961     0.073897     0.015116  ...   \n",
      "min     100.0    82.131100     0.000000     1.191000    -0.053400  ...   \n",
      "25%     100.0    97.920000     0.121100     1.411200    -0.010800  ...   \n",
      "50%     100.0   101.512200     0.122400     1.461600    -0.001300  ...   \n",
      "75%     100.0   104.586700     0.123800     1.516900     0.008400  ...   \n",
      "max     100.0   129.252200     0.128600     1.656400     0.074900  ...   \n",
      "\n",
      "              581          582          583          584          585  \\\n",
      "count  618.000000  1566.000000  1566.000000  1566.000000  1566.000000   \n",
      "mean    97.934373     0.500096     0.015318     0.003847     3.067826   \n",
      "std     87.520966     0.003404     0.017180     0.003720     3.578033   \n",
      "min      0.000000     0.477800     0.006000     0.001700     1.197500   \n",
      "25%     46.184900     0.497900     0.011600     0.003100     2.306500   \n",
      "50%     72.288900     0.500200     0.013800     0.003600     2.757650   \n",
      "75%    116.539150     0.502375     0.016500     0.004100     3.295175   \n",
      "max    737.304800     0.509800     0.476600     0.104500    99.303200   \n",
      "\n",
      "               586          587          588          589    Pass_Fail  \n",
      "count  1566.000000  1566.000000  1566.000000  1566.000000  1567.000000  \n",
      "mean      0.021458     0.016475     0.005283    99.670066    -0.867262  \n",
      "std       0.012358     0.008808     0.002867    93.891919     0.498010  \n",
      "min      -0.016900     0.003200     0.001000     0.000000    -1.000000  \n",
      "25%       0.013425     0.010600     0.003300    44.368600    -1.000000  \n",
      "50%       0.020500     0.014800     0.004600    71.900500    -1.000000  \n",
      "75%       0.027600     0.020300     0.006400   114.749700    -1.000000  \n",
      "max       0.102800     0.079900     0.028600   737.304800     1.000000  \n",
      "\n",
      "[8 rows x 591 columns]\n"
     ]
    }
   ],
   "source": [
    "# 데이터 로드 및 기본 정보\n",
    "## 데이터셋 불러오기 및 기본 정보 확인\n",
    "file_path = \"secom.csv\"  # 데이터 경로\n",
    "data = pd.read_csv(file_path)\n",
    "data.rename(columns={\"Pass/Fail\": \"Pass_Fail\"}, inplace=True)\n",
    "\n",
    "def dataset_info(df):\n",
    "    print(\"데이터 셋 크기:\", df.shape)\n",
    "    print(df.info())\n",
    "    print(df.describe())\n",
    "\n",
    "dataset_info(data)"
   ]
  },
  {
   "cell_type": "code",
   "execution_count": 63,
   "id": "a9cb678c-3ebf-408e-8b63-e2b73b9eb296",
   "metadata": {},
   "outputs": [
    {
     "name": "stdout",
     "output_type": "stream",
     "text": [
      "50% 이상 결측치가 포함된 28개 컬럼 제거 후 데이터 크기: (1567, 564)\n"
     ]
    }
   ],
   "source": [
    "# 데이터 전처리 과정\n",
    "## 1. 결측치 처리\n",
    "def missing_values(df):\n",
    "    missing = df.isnull().sum()\n",
    "    missing_percent = (missing / df.shape[0]) * 100\n",
    "    missing_df = pd.DataFrame({'Missing_Records': missing, 'Percentage (%)': missing_percent})\n",
    "    return missing_df[missing_df['Missing_Records'] > 0].sort_values(by='Percentage (%)', ascending=False)\n",
    "\n",
    "missing_df = missing_values(data)\n",
    "columns_to_drop = missing_df[missing_df[\"Percentage (%)\"] > 50].index\n",
    "data.drop(columns=columns_to_drop, inplace=True)\n",
    "print(f\"50% 이상 결측치가 포함된 {len(columns_to_drop)}개 컬럼 제거 후 데이터 크기: {data.shape}\")\n",
    "\n",
    "data.fillna(method='ffill', inplace=True)\n",
    "data.fillna(method='bfill', inplace=True)\n",
    "\n"
   ]
  },
  {
   "cell_type": "code",
   "execution_count": 64,
   "id": "d5a4aaba-561d-4614-960d-5ac160363307",
   "metadata": {},
   "outputs": [
    {
     "name": "stdout",
     "output_type": "stream",
     "text": [
      "단일 값만 포함된 116개 컬럼 제거 후 데이터 크기: (1567, 448)\n"
     ]
    }
   ],
   "source": [
    "## 2. 단일 값만 있는 컬럼 제거\n",
    "unique_columns = [col for col in data.columns if data[col].nunique() == 1]\n",
    "data.drop(columns=unique_columns, inplace=True)\n",
    "print(f\"단일 값만 포함된 {len(unique_columns)}개 컬럼 제거 후 데이터 크기: {data.shape}\")\n"
   ]
  },
  {
   "cell_type": "code",
   "execution_count": 65,
   "id": "7d4c600c-8721-4dc7-864d-b6db8d2f113e",
   "metadata": {},
   "outputs": [
    {
     "name": "stdout",
     "output_type": "stream",
     "text": [
      "'Time' 컬럼 삭제 후 데이터 크기: (1567, 447)\n"
     ]
    }
   ],
   "source": [
    "## 3. 시간 데이터 제거\n",
    "if \"Time\" in data.columns:\n",
    "    data.drop(columns=[\"Time\"], inplace=True)\n",
    "    print(\"'Time' 컬럼 삭제 후 데이터 크기:\", data.shape)\n"
   ]
  },
  {
   "cell_type": "code",
   "execution_count": 72,
   "id": "250a40e1-8e9a-4519-8c49-cbf0c2935892",
   "metadata": {},
   "outputs": [
    {
     "data": {
      "image/png": "[encoded data removed]",
      "text/plain": [
       "<Figure size 600x600 with 1 Axes>"
      ]
     },
     "metadata": {},
     "output_type": "display_data"
    }
   ],
   "source": [
    "# 탐색적 데이터 분석 (EDA)\n",
    "## 4. 타겟 변수 분포 시각화\n",
    "def plot_target_distribution(df):\n",
    "    plt.figure(figsize=(6,6))\n",
    "    labels = ['Pass', 'Fail']\n",
    "    size = df['Pass_Fail'].value_counts()\n",
    "    colors = ['skyblue', 'salmon']\n",
    "    plt.bar(labels, size, color=colors)\n",
    "    plt.xlabel(\"Outcome\")\n",
    "    plt.ylabel(\"Count\")\n",
    "    plt.title(\"Pass/Fail Distribution\")\n",
    "    plt.show()\n",
    "\n",
    "plot_target_distribution(data)\n"
   ]
  },
  {
   "cell_type": "code",
   "execution_count": 68,
   "id": "191db764-ce1d-42ba-ba63-b882f1889899",
   "metadata": {},
   "outputs": [],
   "source": [
    "## 5. 높은 다중공선성을 가진 변수 제거 함수\n",
    "### 다중공선성은 두 개 이상의 독립 변수가 강한 상관관계를 가질 때 발생한다.\n",
    "### 다중공선성이 높은 변수들은 불필요한 중복 정보를 제공하므로 제거합니다.\n",
    "def remove_collinear_features(x, threshold=0.7):\n",
    "    corr_matrix = x.corr()\n",
    "    drop_cols = set()\n",
    "    for i in range(len(corr_matrix.columns) - 1):\n",
    "        for j in range(i + 1):\n",
    "            if abs(corr_matrix.iloc[j, i+1]) >= threshold:\n",
    "                drop_cols.add(corr_matrix.columns[i+1])\n",
    "    return x.drop(columns=drop_cols)\n"
   ]
  },
  {
   "cell_type": "code",
   "execution_count": 69,
   "id": "e06a9bfb-b6a0-42f2-b15d-712d6395eefb",
   "metadata": {},
   "outputs": [
    {
     "name": "stdout",
     "output_type": "stream",
     "text": [
      "다중공선성이 높은 변수 제거 후 데이터 크기: (1567, 205)\n"
     ]
    }
   ],
   "source": [
    "## 6. 다중공선성 높은 변수 제거 (상관계수가 0.7 이상)\n",
    "data = remove_collinear_features(data, threshold=0.7)\n",
    "print(f\"다중공선성이 높은 변수 제거 후 데이터 크기: {data.shape}\")\n",
    "\n",
    "\n"
   ]
  },
  {
   "cell_type": "code",
   "execution_count": 70,
   "id": "6a4448ba-1964-4270-a76f-70112acf35fd",
   "metadata": {},
   "outputs": [],
   "source": [
    "# 데이터 정규화 및 최종 확인\n",
    "## 7. 데이터 정규화\n",
    "scaler = StandardScaler()\n",
    "scaled_features = scaler.fit_transform(data.drop(columns=['Pass_Fail']))\n",
    "data_scaled = pd.DataFrame(scaled_features, columns=data.drop(columns=['Pass_Fail']).columns)\n",
    "data_scaled['Pass_Fail'] = data['Pass_Fail'].values\n"
   ]
  },
  {
   "cell_type": "code",
   "execution_count": 71,
   "id": "05cb3df4-dc90-4cfb-ac0b-5bcd286c2477",
   "metadata": {},
   "outputs": [
    {
     "name": "stdout",
     "output_type": "stream",
     "text": [
      "최종 데이터 크기: (1567, 205)\n"
     ]
    }
   ],
   "source": [
    "## 8. 최종 데이터셋 크기 출력\n",
    "print(\"최종 데이터 크기:\", data_scaled.shape)\n"
   ]
  },
  {
   "cell_type": "code",
   "execution_count": null,
   "id": "835a8b45-3320-4b80-9625-75869f594e25",
   "metadata": {},
   "outputs": [],
   "source": []
  },
  {
   "cell_type": "code",
   "execution_count": null,
   "id": "01ad38b5-3045-405e-80ac-5f95ddd47cd7",
   "metadata": {},
   "outputs": [],
   "source": []
  },
  {
   "cell_type": "code",
   "execution_count": null,
   "id": "da237691-ec66-403c-968c-e4f9a84e152e",
   "metadata": {},
   "outputs": [],
   "source": []
  },
  {
   "cell_type": "code",
   "execution_count": null,
   "id": "0e1b37b1-e721-4bcd-8a70-e1255c62c7d0",
   "metadata": {},
   "outputs": [],
   "source": []
  }
 ],
 "metadata": {
  "kernelspec": {
   "display_name": "Python 3 (ipykernel)",
   "language": "python",
   "name": "python3"
  },
  "language_info": {
   "codemirror_mode": {
    "name": "ipython",
    "version": 3
   },
   "file_extension": ".py",
   "mimetype": "text/x-python",
   "name": "python",
   "nbconvert_exporter": "python",
   "pygments_lexer": "ipython3",
   "version": "3.9.18"
  }
 },
 "nbformat": 4,
 "nbformat_minor": 5
}
